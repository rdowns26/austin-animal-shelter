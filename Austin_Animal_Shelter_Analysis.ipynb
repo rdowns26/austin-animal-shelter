{
 "cells": [
  {
   "cell_type": "markdown",
   "metadata": {},
   "source": [
    "# Austin Animal Shelter Analysis"
   ]
  },
  {
   "cell_type": "code",
   "execution_count": 1,
   "metadata": {
    "collapsed": false
   },
   "outputs": [
    {
     "name": "stdout",
     "output_type": "stream",
     "text": [
      "Populating the interactive namespace from numpy and matplotlib\n"
     ]
    }
   ],
   "source": [
    "import pandas as pd\n",
    "from pandas import Series, DataFrame\n",
    "%pylab inline\n",
    "import numpy as np"
   ]
  },
  {
   "cell_type": "code",
   "execution_count": 2,
   "metadata": {
    "collapsed": false
   },
   "outputs": [],
   "source": [
    "intakes = pd.read_csv('https://query.data.world/s/4dhuacn0l3k8nw0f5strehu96')\n",
    "intakes.columns = ['Animal ID', 'Name', 'DateTime', 'MonthYear', 'Found_Location',\n",
    "       'Intake_Type', 'IntakeCondition', 'Animal_Type', 'Sex',\n",
    "       'Age', 'Breed', 'Color']\n",
    "\n",
    "outcomes = pd.read_csv('https://query.data.world/s/1hjzqlp0xrqs5k8rfa6le49yn')\n",
    "outcomes.columns = ['Animal ID', 'Name', 'DateTime', 'MonthYear', 'DOB',\n",
    "       'Outcome_Type', 'Outcome_Subtype', 'Animal_Type',\n",
    "       'Sex_upon_Outcome', 'Age_upon_Outcome', 'Breed', 'Color']"
   ]
  },
  {
   "cell_type": "code",
   "execution_count": 3,
   "metadata": {
    "collapsed": false
   },
   "outputs": [
    {
     "name": "stdout",
     "output_type": "stream",
     "text": [
      "How many intakes and outcomes do we have?\n",
      "63328 intakes\n",
      "63643 outcomes\n",
      "What are the columns?\n",
      "INTAKE:  Index([u'Animal ID', u'Name', u'DateTime', u'MonthYear', u'Found_Location',\n",
      "       u'Intake_Type', u'IntakeCondition', u'Animal_Type', u'Sex', u'Age',\n",
      "       u'Breed', u'Color'],\n",
      "      dtype='object')\n",
      "OUTCOMES:  Index([u'Animal ID', u'Name', u'DateTime', u'MonthYear', u'DOB',\n",
      "       u'Outcome_Type', u'Outcome_Subtype', u'Animal_Type',\n",
      "       u'Sex_upon_Outcome', u'Age_upon_Outcome', u'Breed', u'Color'],\n",
      "      dtype='object')\n"
     ]
    }
   ],
   "source": [
    "print \"How many intakes and outcomes do we have?\"\n",
    "print len(intakes), \"intakes\"\n",
    "print len(outcomes), \"outcomes\"\n",
    "print \"What are the columns?\"\n",
    "print \"INTAKE: \",intakes.columns\n",
    "print \"OUTCOMES: \",outcomes.columns"
   ]
  },
  {
   "cell_type": "code",
   "execution_count": 4,
   "metadata": {
    "collapsed": false
   },
   "outputs": [
    {
     "name": "stdout",
     "output_type": "stream",
     "text": [
      "Resulting dataframe has 76977 records\n"
     ]
    }
   ],
   "source": [
    "# Create a new dataframe from the inner join between intakes and outcomes\n",
    "records = intakes.merge(outcomes, how='inner', left_on = 'Animal ID', right_on = 'Animal ID', suffixes=('_intake', '_outcome'))\n",
    "print \"Resulting dataframe has\", len(records), \"records\""
   ]
  },
  {
   "cell_type": "markdown",
   "metadata": {},
   "source": [
    "## Data Cleaning\n",
    "Fixing records that don't match and dropping irrelevant columns"
   ]
  },
  {
   "cell_type": "code",
   "execution_count": 5,
   "metadata": {
    "collapsed": false
   },
   "outputs": [
    {
     "name": "stdout",
     "output_type": "stream",
     "text": [
      "Null DOBS: 0\n",
      "Date of birth appears to be irrelevant because every animal has a DOB even though not all animals were born in the shelter\n",
      "Animal Type, Breed and Color are all consistent across intake and outake.\n",
      "COLUMNS:  Index([u'Animal ID', u'Name_intake', u'DateTime_intake', u'MonthYear_intake',\n",
      "       u'Found_Location', u'Intake_Type', u'IntakeCondition',\n",
      "       u'Animal_Type_intake', u'Sex', u'Age', u'Breed_intake', u'Color_intake',\n",
      "       u'Name_outcome', u'DateTime_outcome', u'MonthYear_outcome',\n",
      "       u'Outcome_Type', u'Outcome_Subtype', u'Sex_upon_Outcome',\n",
      "       u'Age_upon_Outcome'],\n",
      "      dtype='object')\n"
     ]
    }
   ],
   "source": [
    "print \"Null DOBS:\", len(records[records['DOB'].isnull()])\n",
    "print \"Date of birth appears to be irrelevant because every animal has a DOB even though not all animals were born in the shelter\"\n",
    "del records['DOB']\n",
    "del records['Animal_Type_outcome']\n",
    "del records['Breed_outcome']\n",
    "del records['Color_outcome']\n",
    "print \"Animal Type, Breed and Color are all consistent across intake and outake.\"\n",
    "print \"COLUMNS: \", records.columns"
   ]
  },
  {
   "cell_type": "markdown",
   "metadata": {},
   "source": [
    "## Feature Extraction"
   ]
  },
  {
   "cell_type": "markdown",
   "metadata": {},
   "source": [
    "**Extract \"Spayed\" and \"Intact\" and whether or not that changed during their time in the shelter, and Gender**"
   ]
  },
  {
   "cell_type": "code",
   "execution_count": 6,
   "metadata": {
    "collapsed": false
   },
   "outputs": [
    {
     "data": {
      "text/plain": [
       " 0    49696\n",
       " 1    27141\n",
       "-1      140\n",
       "Name: fixed_changed, dtype: int64"
      ]
     },
     "execution_count": 6,
     "metadata": {},
     "output_type": "execute_result"
    }
   ],
   "source": [
    "def get_gender(val):\n",
    "    try:\n",
    "        val_list = val.split(' ')\n",
    "        return val_list[1]\n",
    "    except:\n",
    "        return np.nan\n",
    "def get_fixed(val):\n",
    "    try:\n",
    "        val_list = val.split(' ')\n",
    "        return val_list[0]\n",
    "    except:\n",
    "        return np.nan\n",
    "\n",
    "records['Gender'] = records['Sex'].apply(get_gender)\n",
    "records['fixed_intake'] = records['Sex'].apply(get_fixed)\n",
    "records['fixed_outcome'] = records['Sex_upon_Outcome'].apply(get_fixed)\n",
    "\n",
    "records['fixed_changed'] = 0\n",
    "mask = (records['fixed_intake'] == \"Intact\") & (records['fixed_outcome'] != \"Intact\")\n",
    "records.ix[mask, 'fixed_changed'] = 1\n",
    "mask = (records['fixed_intake'] != \"Intact\") & (records['fixed_outcome'] == \"Intact\")\n",
    "records.ix[mask, 'fixed_changed'] = -1\n",
    "\n",
    "records['fixed_changed'].value_counts()"
   ]
  },
  {
   "cell_type": "markdown",
   "metadata": {},
   "source": [
    "** Put \"Age\" into buckets **"
   ]
  },
  {
   "cell_type": "code",
   "execution_count": 7,
   "metadata": {
    "collapsed": false
   },
   "outputs": [
    {
     "data": {
      "text/plain": [
       "1-3 years           33474\n",
       "1-6 months          17315\n",
       "4-6 years            8758\n",
       "1-6 weeks            6522\n",
       "7+ years             5570\n",
       "7-12 months          4118\n",
       "Less than 1 week     1220\n",
       "Name: Age_Bucket, dtype: int64"
      ]
     },
     "execution_count": 7,
     "metadata": {},
     "output_type": "execute_result"
    }
   ],
   "source": [
    "import re\n",
    "\n",
    "def get_age_bucket(val):\n",
    "    if re.search(\"day\", val):\n",
    "        return \"Less than 1 week\"\n",
    "    elif re.search(\"week\", val):\n",
    "        return \"1-6 weeks\"\n",
    "    elif re.search(\"[1,2,3,4,5,6] month\", val):\n",
    "        return \"1-6 months\"\n",
    "    elif re.search(\"[7,8,9,10,11,12] month\", val):\n",
    "        return \"7-12 months\"\n",
    "    elif re.search(\"[1,2,3] year\", val):\n",
    "        return \"1-3 years\"\n",
    "    elif re.search(\"[4,5,6] year\", val):\n",
    "        return \"4-6 years\"\n",
    "    elif re.search(\"year\", val):\n",
    "        return \"7+ years\"\n",
    "    else:\n",
    "        return \"other\"\n",
    "\n",
    "records['Age_Bucket'] = records['Age'].apply(get_age_bucket)\n",
    "records['Age_Bucket'].value_counts()"
   ]
  },
  {
   "cell_type": "markdown",
   "metadata": {},
   "source": [
    "**Extract popular types of breeds from mix (i.e. pit bull, chihuahua)**\n",
    "\n",
    "Retriever, Shepherd, Beagle, Terrier, Boxer, Poodle, Rottweiler, Dachshund, Chihuahua, Pit Bull"
   ]
  },
  {
   "cell_type": "code",
   "execution_count": 8,
   "metadata": {
    "collapsed": false
   },
   "outputs": [],
   "source": [
    "def get_breed(val, type):\n",
    "    val = val.lower()\n",
    "    if re.search(type,val):\n",
    "        return 1\n",
    "    else:\n",
    "        return 0\n",
    "\n",
    "types = ['retriever','shepherd','beagle','terrier','boxer','poodle','rottweiler','dachshund','chihuahua','pit_bull']\n",
    "for t in types:\n",
    "    records[t] = records['Breed_intake'].apply(get_breed, args=(t,))"
   ]
  },
  {
   "cell_type": "markdown",
   "metadata": {},
   "source": [
    "**Difference in intake and outtake dates to see how long animals were at shelter, then bucket**"
   ]
  },
  {
   "cell_type": "code",
   "execution_count": 9,
   "metadata": {
    "collapsed": false
   },
   "outputs": [
    {
     "data": {
      "text/plain": [
       "0-7 days               40144\n",
       "1-3 weeks              11795\n",
       "3-6 weeks               5930\n",
       "7-12 weeks              5380\n",
       "12 weeks - 6 months     2895\n",
       "6-12 months             2064\n",
       "1-2 years               1042\n",
       "2+ years                 327\n",
       "Name: Days_length, dtype: int64"
      ]
     },
     "execution_count": 9,
     "metadata": {},
     "output_type": "execute_result"
    }
   ],
   "source": [
    "records['DateTime_intake'] = pd.to_datetime(records['DateTime_intake'])\n",
    "records['DateTime_outcome'] = pd.to_datetime(records['DateTime_outcome'])\n",
    "records['DateTime_length'] = records['DateTime_outcome'] - records['DateTime_intake']\n",
    "\n",
    "def get_days_length(val):\n",
    "    val = str(val)\n",
    "    days = re.findall('\\d*',val)[0]\n",
    "    try:\n",
    "        days = int(days)\n",
    "        if days <= 7:\n",
    "            return \"0-7 days\"\n",
    "        elif days <= 21:\n",
    "            return \"1-3 weeks\"\n",
    "        elif days <= 42:\n",
    "            return \"3-6 weeks\"\n",
    "        elif days <= 84:\n",
    "            return \"7-12 weeks\"\n",
    "        elif days <= 168:\n",
    "            return \"12 weeks - 6 months\"\n",
    "        elif days <= 365:\n",
    "            return \"6-12 months\"\n",
    "        elif days <= 730:\n",
    "            return \"1-2 years\"\n",
    "        else:\n",
    "            return \"2+ years\"\n",
    "    except:\n",
    "        return np.nan\n",
    "\n",
    "records['Days_length'] = records['DateTime_length'].apply(get_days_length)\n",
    "records['Days_length'].value_counts()"
   ]
  },
  {
   "cell_type": "markdown",
   "metadata": {},
   "source": [
    "### Export resulting dataframe"
   ]
  },
  {
   "cell_type": "code",
   "execution_count": 178,
   "metadata": {
    "collapsed": true
   },
   "outputs": [],
   "source": [
    "records.to_csv(\"all_records_with_features.csv\")"
   ]
  },
  {
   "cell_type": "markdown",
   "metadata": {},
   "source": [
    "# Findings"
   ]
  },
  {
   "cell_type": "markdown",
   "metadata": {},
   "source": [
    "## How many animals come in as a euthanasia request and dont get euthanized?"
   ]
  },
  {
   "cell_type": "code",
   "execution_count": 28,
   "metadata": {
    "collapsed": false
   },
   "outputs": [
    {
     "name": "stdout",
     "output_type": "stream",
     "text": [
      "77 animals\n"
     ]
    }
   ],
   "source": [
    "mask = (records['Intake_Type'] == \"Euthanasia Request\") & (records['Outcome_Type'] != \"Euthanasia\")\n",
    "print len(records[mask]), \"animals\""
   ]
  },
  {
   "cell_type": "markdown",
   "metadata": {},
   "source": [
    "## How accurate are these records of intake and outtake? What discrepencies can we find?"
   ]
  },
  {
   "cell_type": "code",
   "execution_count": 11,
   "metadata": {
    "collapsed": false
   },
   "outputs": [
    {
     "name": "stdout",
     "output_type": "stream",
     "text": [
      "Magically, 144 animals were un-neutered/spayed during their time\n"
     ]
    }
   ],
   "source": [
    "mask = (records['Sex'] != records['Sex_upon_Outcome']) & ((records['Sex_upon_Outcome'] != \"Spayed Female\") & (records['Sex_upon_Outcome'] != \"Neutered Male\"))\n",
    "print \"Magically,\", len(records[mask]), \"animals were un-neutered/spayed during their time\""
   ]
  },
  {
   "cell_type": "markdown",
   "metadata": {},
   "source": [
    "## How many animals are spayed/neutered during their time in the shelter?"
   ]
  },
  {
   "cell_type": "code",
   "execution_count": 12,
   "metadata": {
    "collapsed": false
   },
   "outputs": [
    {
     "name": "stdout",
     "output_type": "stream",
     "text": [
      "27139 animals were neutered/spayed during their time\n"
     ]
    }
   ],
   "source": [
    "mask = (records['Sex'] != records['Sex_upon_Outcome']) & ((records['Sex_upon_Outcome'] == \"Spayed Female\") | (records['Sex_upon_Outcome'] == \"Neutered Male\"))\n",
    "print len(records[mask]), \"animals were neutered/spayed during their time\""
   ]
  },
  {
   "cell_type": "markdown",
   "metadata": {},
   "source": [
    "## What does the distribution across intake type look like and are there some intake types that are more likely to be adopted/euthanized?"
   ]
  },
  {
   "cell_type": "code",
   "execution_count": 13,
   "metadata": {
    "collapsed": false
   },
   "outputs": [
    {
     "data": {
      "text/plain": [
       "<matplotlib.axes._subplots.AxesSubplot at 0x11b616450>"
      ]
     },
     "execution_count": 13,
     "metadata": {},
     "output_type": "execute_result"
    },
    {
     "data": {
      "image/png": "[encoded data removed]",
      "text/plain": [
       "<matplotlib.figure.Figure at 0x11d38db50>"
      ]
     },
     "metadata": {},
     "output_type": "display_data"
    }
   ],
   "source": [
    "fig, axes = plt.subplots(nrows=1, ncols=2)\n",
    "records['Intake_Type'].value_counts().plot(kind='bar', ax=axes[0], figsize=(15,5), title = \"Distribution of intake types\")\n",
    "records['IntakeCondition'].value_counts().plot(kind='bar', ax=axes[1], figsize=(15,5), title = \"Distribution of intake condition\")"
   ]
  },
  {
   "cell_type": "code",
   "execution_count": 16,
   "metadata": {
    "collapsed": false
   },
   "outputs": [
    {
     "name": "stdout",
     "output_type": "stream",
     "text": [
      "TOTAL:  76977\n",
      "Stray                 52498\n",
      "Owner Surrender       16123\n",
      "Public Assist          5313\n",
      "Wildlife               2773\n",
      "Euthanasia Request      270\n",
      "Name: Intake_Type, dtype: int64\n",
      "Normal      68527\n",
      "Injured      3581\n",
      "Sick         2704\n",
      "Nursing      1602\n",
      "Aged          305\n",
      "Other         132\n",
      "Feral          78\n",
      "Pregnant       48\n",
      "Name: IntakeCondition, dtype: int64\n"
     ]
    }
   ],
   "source": [
    "print \"TOTAL: \", len(records)\n",
    "print records['Intake_Type'].value_counts()\n",
    "print records['IntakeCondition'].value_counts()"
   ]
  },
  {
   "cell_type": "code",
   "execution_count": 17,
   "metadata": {
    "collapsed": false
   },
   "outputs": [
    {
     "data": {
      "text/html": [
       "<div>\n",
       "<table border=\"1\" class=\"dataframe\">\n",
       "  <thead>\n",
       "    <tr style=\"text-align: right;\">\n",
       "      <th></th>\n",
       "      <th>Euthanasia Request</th>\n",
       "      <th>Owner Surrender</th>\n",
       "      <th>Public Assist</th>\n",
       "      <th>Stray</th>\n",
       "      <th>Wildlife</th>\n",
       "    </tr>\n",
       "    <tr>\n",
       "      <th>Outcome_Type</th>\n",
       "      <th></th>\n",
       "      <th></th>\n",
       "      <th></th>\n",
       "      <th></th>\n",
       "      <th></th>\n",
       "    </tr>\n",
       "  </thead>\n",
       "  <tbody>\n",
       "    <tr>\n",
       "      <th>Adoption</th>\n",
       "      <td>8.148148</td>\n",
       "      <td>62.854308</td>\n",
       "      <td>14.323358</td>\n",
       "      <td>40.934547</td>\n",
       "      <td>0.072254</td>\n",
       "    </tr>\n",
       "    <tr>\n",
       "      <th>Died</th>\n",
       "      <td>1.111111</td>\n",
       "      <td>0.440365</td>\n",
       "      <td>0.357613</td>\n",
       "      <td>0.718150</td>\n",
       "      <td>2.998555</td>\n",
       "    </tr>\n",
       "    <tr>\n",
       "      <th>Disposal</th>\n",
       "      <td>NaN</td>\n",
       "      <td>0.012405</td>\n",
       "      <td>0.451722</td>\n",
       "      <td>0.049528</td>\n",
       "      <td>7.406069</td>\n",
       "    </tr>\n",
       "    <tr>\n",
       "      <th>Euthanasia</th>\n",
       "      <td>71.481481</td>\n",
       "      <td>3.677976</td>\n",
       "      <td>5.383023</td>\n",
       "      <td>3.745047</td>\n",
       "      <td>87.861272</td>\n",
       "    </tr>\n",
       "    <tr>\n",
       "      <th>Missing</th>\n",
       "      <td>NaN</td>\n",
       "      <td>0.043416</td>\n",
       "      <td>0.075287</td>\n",
       "      <td>0.074291</td>\n",
       "      <td>0.036127</td>\n",
       "    </tr>\n",
       "    <tr>\n",
       "      <th>Relocate</th>\n",
       "      <td>NaN</td>\n",
       "      <td>NaN</td>\n",
       "      <td>NaN</td>\n",
       "      <td>0.005715</td>\n",
       "      <td>0.361272</td>\n",
       "    </tr>\n",
       "    <tr>\n",
       "      <th>Return to Owner</th>\n",
       "      <td>6.296296</td>\n",
       "      <td>8.242883</td>\n",
       "      <td>66.610201</td>\n",
       "      <td>23.828482</td>\n",
       "      <td>0.072254</td>\n",
       "    </tr>\n",
       "    <tr>\n",
       "      <th>Rto-Adopt</th>\n",
       "      <td>NaN</td>\n",
       "      <td>0.031012</td>\n",
       "      <td>NaN</td>\n",
       "      <td>0.034288</td>\n",
       "      <td>NaN</td>\n",
       "    </tr>\n",
       "    <tr>\n",
       "      <th>Transfer</th>\n",
       "      <td>12.962963</td>\n",
       "      <td>24.697637</td>\n",
       "      <td>12.798795</td>\n",
       "      <td>30.609951</td>\n",
       "      <td>1.192197</td>\n",
       "    </tr>\n",
       "  </tbody>\n",
       "</table>\n",
       "</div>"
      ],
      "text/plain": [
       "                 Euthanasia Request  Owner Surrender  Public Assist  \\\n",
       "Outcome_Type                                                          \n",
       "Adoption                   8.148148        62.854308      14.323358   \n",
       "Died                       1.111111         0.440365       0.357613   \n",
       "Disposal                        NaN         0.012405       0.451722   \n",
       "Euthanasia                71.481481         3.677976       5.383023   \n",
       "Missing                         NaN         0.043416       0.075287   \n",
       "Relocate                        NaN              NaN            NaN   \n",
       "Return to Owner            6.296296         8.242883      66.610201   \n",
       "Rto-Adopt                       NaN         0.031012            NaN   \n",
       "Transfer                  12.962963        24.697637      12.798795   \n",
       "\n",
       "                     Stray   Wildlife  \n",
       "Outcome_Type                           \n",
       "Adoption         40.934547   0.072254  \n",
       "Died              0.718150   2.998555  \n",
       "Disposal          0.049528   7.406069  \n",
       "Euthanasia        3.745047  87.861272  \n",
       "Missing           0.074291   0.036127  \n",
       "Relocate          0.005715   0.361272  \n",
       "Return to Owner  23.828482   0.072254  \n",
       "Rto-Adopt         0.034288        NaN  \n",
       "Transfer         30.609951   1.192197  "
      ]
     },
     "execution_count": 17,
     "metadata": {},
     "output_type": "execute_result"
    }
   ],
   "source": [
    "intake_gb = records.groupby(['Intake_Type','Outcome_Type'])['Outcome_Type'].count().unstack()\n",
    "intake_gb = intake_gb.T\n",
    "\n",
    "def get_perc(val,col):\n",
    "    return val / intake_gb[col].sum() * 100\n",
    "\n",
    "intake_gb_perc = pd.DataFrame()\n",
    "for col in intake_gb.columns:\n",
    "    intake_gb_perc[col] = intake_gb[col].apply(get_perc, args=(col,))\n",
    "\n",
    "intake_gb_perc"
   ]
  },
  {
   "cell_type": "code",
   "execution_count": 18,
   "metadata": {
    "collapsed": false
   },
   "outputs": [
    {
     "name": "stdout",
     "output_type": "stream",
     "text": [
      "Outcome_Type\n",
      "Euthanasia    71.481481\n",
      "Transfer      12.962963\n",
      "Name: Euthanasia Request, dtype: float64\n",
      "Outcome_Type\n",
      "Adoption    62.854308\n",
      "Transfer    24.697637\n",
      "Name: Owner Surrender, dtype: float64\n",
      "Outcome_Type\n",
      "Return to Owner    66.610201\n",
      "Adoption           14.323358\n",
      "Name: Public Assist, dtype: float64\n",
      "Outcome_Type\n",
      "Adoption    40.934547\n",
      "Transfer    30.609951\n",
      "Name: Stray, dtype: float64\n",
      "Outcome_Type\n",
      "Euthanasia    87.861272\n",
      "Disposal       7.406069\n",
      "Name: Wildlife, dtype: float64\n"
     ]
    }
   ],
   "source": [
    "# What are the top two outcomes by intake type?\n",
    "def find_top_two_outcomes(col):\n",
    "    col = col.sort_values(ascending=False)\n",
    "    print col[:2]\n",
    "\n",
    "for col in intake_gb_perc.columns:\n",
    "    find_top_two_outcomes(intake_gb_perc[col])"
   ]
  },
  {
   "cell_type": "markdown",
   "metadata": {},
   "source": [
    "## How long does the average animal spend in the shelter? Does that differ based on animal type/gender/age? Which types of animals are adopted the quickest?"
   ]
  },
  {
   "cell_type": "code",
   "execution_count": 19,
   "metadata": {
    "collapsed": false
   },
   "outputs": [
    {
     "name": "stdout",
     "output_type": "stream",
     "text": [
      "Median 4 days 22:11:00 -- true average stay\n",
      "Mean 15 days 02:57:04.824817 -- mean is skewed by animals with long stays\n",
      "Mode 0   00:14:00\n",
      "dtype: timedelta64[ns] -- most likely transfered\n"
     ]
    },
    {
     "data": {
      "text/plain": [
       "<matplotlib.axes._subplots.AxesSubplot at 0x119da1290>"
      ]
     },
     "execution_count": 19,
     "metadata": {},
     "output_type": "execute_result"
    },
    {
     "data": {
      "image/png": "[encoded data removed]",
      "text/plain": [
       "<matplotlib.figure.Figure at 0x11d378350>"
      ]
     },
     "metadata": {},
     "output_type": "display_data"
    }
   ],
   "source": [
    "print \"Median\", records[\"DateTime_length\"].median(), \"-- true average stay\"\n",
    "print \"Mean\", records[\"DateTime_length\"].mean(), \"-- mean is skewed by animals with long stays\"\n",
    "print \"Mode\", records[\"DateTime_length\"].mode(), \"-- most likely transfered\"\n",
    "records['Days_length'].value_counts().plot(kind=\"bar\", title = \"Length of Stay\")"
   ]
  },
  {
   "cell_type": "markdown",
   "metadata": {},
   "source": [
    "### What kinds of animals are in the shelter? How does that affect length of stay?"
   ]
  },
  {
   "cell_type": "code",
   "execution_count": 20,
   "metadata": {
    "collapsed": false
   },
   "outputs": [
    {
     "data": {
      "text/plain": [
       "Dog          48097\n",
       "Cat          25125\n",
       "Other         3493\n",
       "Bird           254\n",
       "Livestock        8\n",
       "Name: Animal_Type_intake, dtype: int64"
      ]
     },
     "execution_count": 20,
     "metadata": {},
     "output_type": "execute_result"
    }
   ],
   "source": [
    "records['Animal_Type_intake'].value_counts()"
   ]
  },
  {
   "cell_type": "code",
   "execution_count": 21,
   "metadata": {
    "collapsed": false
   },
   "outputs": [
    {
     "data": {
      "text/plain": [
       "<matplotlib.axes._subplots.AxesSubplot at 0x11ea9cf10>"
      ]
     },
     "execution_count": 21,
     "metadata": {},
     "output_type": "execute_result"
    },
    {
     "data": {
      "image/png": "[encoded data removed]",
      "text/plain": [
       "<matplotlib.figure.Figure at 0x11dc28810>"
      ]
     },
     "metadata": {},
     "output_type": "display_data"
    }
   ],
   "source": [
    "fig, axes = plt.subplots(nrows=2, ncols=2)\n",
    "fig.subplots_adjust(hspace=1, wspace = .5)\n",
    "\n",
    "records[records[\"Animal_Type_intake\"] == \"Dog\"]['Days_length'].value_counts().plot(kind='bar',ax=axes[0,0], figsize=(15,10), title = \"Length of stay for Dogs\")\n",
    "records[records[\"Animal_Type_intake\"] == \"Cat\"]['Days_length'].value_counts().plot(kind='bar',ax=axes[0,1], figsize=(15,10), title = \"Length of stay for Cats\")\n",
    "records[records[\"Animal_Type_intake\"] == \"Other\"]['Days_length'].value_counts().plot(kind='bar',ax=axes[1,0], figsize=(15,10), title = \"Length of stay for Other\")\n",
    "records[records[\"Animal_Type_intake\"] == \"Bird\"]['Days_length'].value_counts().plot(kind='bar',ax=axes[1,1], figsize=(15,10), title = \"Length of stay for Birds\")"
   ]
  },
  {
   "cell_type": "markdown",
   "metadata": {},
   "source": [
    "### Is there a significant difference between length of stay for Dogs and Cats?\n",
    "Average length of stay is slightly longer for cats."
   ]
  },
  {
   "cell_type": "code",
   "execution_count": 22,
   "metadata": {
    "collapsed": false
   },
   "outputs": [
    {
     "name": "stdout",
     "output_type": "stream",
     "text": [
      "Dog Mean:  14 days 01:51:08.355614\n",
      "Dog Median:  5 days 01:14:00\n",
      "Cat Mean:  18 days 18:45:55.140298\n",
      "Cat Median:  5 days 05:26:00\n",
      "Ttest_indResult(statistic=-4.4799766056687478, pvalue=7.4764007669523722e-06)\n"
     ]
    }
   ],
   "source": [
    "from scipy.stats import ttest_ind\n",
    "\n",
    "dog_records = records[records[\"Animal_Type_intake\"] == \"Dog\"]\n",
    "cat_records = records[records[\"Animal_Type_intake\"] == \"Cat\"]\n",
    "\n",
    "print \"Dog Mean: \", dog_records[\"DateTime_length\"].mean()\n",
    "print \"Dog Median: \", dog_records[\"DateTime_length\"].median()\n",
    "print \"Cat Mean: \", cat_records[\"DateTime_length\"].mean()\n",
    "print \"Cat Median: \", cat_records[\"DateTime_length\"].median()\n",
    "print ttest_ind(dog_records[\"DateTime_length\"].astype('timedelta64[D]'), cat_records[\"DateTime_length\"].astype('timedelta64[D]'))"
   ]
  },
  {
   "cell_type": "markdown",
   "metadata": {},
   "source": [
    "### Given an animal is adopted, is there a significant difference between length of stay for Dogs and Cats?\n",
    "Average length of stay for adoptions is significantly longer for cats."
   ]
  },
  {
   "cell_type": "code",
   "execution_count": 23,
   "metadata": {
    "collapsed": false
   },
   "outputs": [
    {
     "name": "stdout",
     "output_type": "stream",
     "text": [
      "Dog Adopted Mean:  21 days 12:08:31.021870\n",
      "Dog Adopted Median:  7 days 01:15:00\n",
      "Cat Adopted Mean:  32 days 03:13:04.975691\n",
      "Cat Adopted Median:  22 days 12:13:30\n",
      "Ttest_indResult(statistic=-7.0348944575730084, pvalue=2.0339295058256773e-12)\n"
     ]
    }
   ],
   "source": [
    "dog_adopted_records = dog_records[dog_records[\"Outcome_Type\"] == \"Adoption\"]\n",
    "cat_adopted_records = cat_records[cat_records[\"Outcome_Type\"] == \"Adoption\"]\n",
    "\n",
    "print \"Dog Adopted Mean: \", dog_adopted_records[\"DateTime_length\"].mean()\n",
    "print \"Dog Adopted Median: \", dog_adopted_records[\"DateTime_length\"].median()\n",
    "print \"Cat Adopted Mean: \", cat_adopted_records[\"DateTime_length\"].mean()\n",
    "print \"Cat Adopted Median: \", cat_adopted_records[\"DateTime_length\"].median()\n",
    "print ttest_ind(dog_adopted_records[\"DateTime_length\"].astype('timedelta64[D]'), cat_adopted_records[\"DateTime_length\"].astype('timedelta64[D]'))"
   ]
  },
  {
   "cell_type": "markdown",
   "metadata": {},
   "source": [
    "### Given an animal is adopted, is there a significant difference between length of stay for Female vs Male dogs and cats?\n",
    "Not a significant difference between Dogs, almost a significant difference between cats. Male animals are adopted faster across the board."
   ]
  },
  {
   "cell_type": "code",
   "execution_count": 24,
   "metadata": {
    "collapsed": false
   },
   "outputs": [
    {
     "name": "stdout",
     "output_type": "stream",
     "text": [
      "Male Dog Adopted Mean:  20 days 18:29:46.794232\n",
      "Female Dog Adopted Mean:  22 days 06:44:19.474338\n",
      "Male Cat Adopted Mean:  30 days 09:33:18.362865\n",
      "Female Cat Adopted Mean:  33 days 18:39:58.953298\n",
      "Male vs Female Dog Ttest_indResult(statistic=-0.80597657113653964, pvalue=0.42026527739021102)\n",
      "Male vs Female Cat Ttest_indResult(statistic=-1.6635290900407023, pvalue=0.096235876580116703)\n"
     ]
    }
   ],
   "source": [
    "male_dog_adopted_records = dog_adopted_records[dog_adopted_records[\"Gender\"] == \"Male\"]\n",
    "female_dog_adopted_records = dog_adopted_records[dog_adopted_records[\"Gender\"] == \"Female\"]\n",
    "male_cat_adopted_records = cat_adopted_records[cat_adopted_records[\"Gender\"] == \"Male\"]\n",
    "female_cat_adopted_records = cat_adopted_records[cat_adopted_records[\"Gender\"] == \"Female\"]\n",
    "\n",
    "print \"Male Dog Adopted Mean: \", male_dog_adopted_records[\"DateTime_length\"].mean()\n",
    "print \"Female Dog Adopted Mean: \", female_dog_adopted_records[\"DateTime_length\"].mean()\n",
    "print \"Male Cat Adopted Mean: \", male_cat_adopted_records[\"DateTime_length\"].mean()\n",
    "print \"Female Cat Adopted Mean: \", female_cat_adopted_records[\"DateTime_length\"].mean()\n",
    "\n",
    "print \"Male vs Female Dog\", ttest_ind(male_dog_adopted_records[\"DateTime_length\"].astype('timedelta64[D]'), female_dog_adopted_records[\"DateTime_length\"].astype('timedelta64[D]'))\n",
    "print \"Male vs Female Cat\", ttest_ind(male_cat_adopted_records[\"DateTime_length\"].astype('timedelta64[D]'), female_cat_adopted_records[\"DateTime_length\"].astype('timedelta64[D]'))"
   ]
  },
  {
   "cell_type": "markdown",
   "metadata": {},
   "source": [
    "### Given an animal is adopted, is there a significant difference between length of stay based on Age for dogs and cats?"
   ]
  },
  {
   "cell_type": "code",
   "execution_count": 83,
   "metadata": {
    "collapsed": false
   },
   "outputs": [
    {
     "name": "stdout",
     "output_type": "stream",
     "text": [
      "DOGS\n",
      "Age_Bucket\n",
      "1-3 years           14.823166\n",
      "1-6 months          22.161159\n",
      "1-6 weeks           49.776699\n",
      "4-6 years           28.748453\n",
      "7+ years            47.360616\n",
      "7-12 months         19.501130\n",
      "Less than 1 week    70.900621\n",
      "Name: DateTime_length_int, dtype: float64\n",
      "\n",
      "CATS\n",
      "Age_Bucket\n",
      "1-3 years           13.756214\n",
      "1-6 months          26.942706\n",
      "1-6 weeks           67.023282\n",
      "4-6 years           34.409346\n",
      "7+ years            34.990637\n",
      "7-12 months         -1.301136\n",
      "Less than 1 week    86.952000\n",
      "Name: DateTime_length_int, dtype: float64\n"
     ]
    },
    {
     "name": "stderr",
     "output_type": "stream",
     "text": [
      "/anaconda/lib/python2.7/site-packages/ipykernel/__main__.py:2: SettingWithCopyWarning: \n",
      "A value is trying to be set on a copy of a slice from a DataFrame.\n",
      "Try using .loc[row_indexer,col_indexer] = value instead\n",
      "\n",
      "See the caveats in the documentation: http://pandas.pydata.org/pandas-docs/stable/indexing.html#indexing-view-versus-copy\n",
      "  from ipykernel import kernelapp as app\n",
      "/anaconda/lib/python2.7/site-packages/ipykernel/__main__.py:7: SettingWithCopyWarning: \n",
      "A value is trying to be set on a copy of a slice from a DataFrame.\n",
      "Try using .loc[row_indexer,col_indexer] = value instead\n",
      "\n",
      "See the caveats in the documentation: http://pandas.pydata.org/pandas-docs/stable/indexing.html#indexing-view-versus-copy\n"
     ]
    }
   ],
   "source": [
    "print \"DOGS\"\n",
    "dog_adopted_records[\"DateTime_length_int\"] = dog_adopted_records[\"DateTime_length\"].astype('timedelta64[D]')\n",
    "dog_adopted_records_gb_age = dog_adopted_records.groupby([\"Age_Bucket\"])[\"DateTime_length_int\"].mean()\n",
    "print dog_adopted_records_gb_age\n",
    "\n",
    "print \"\\nCATS\"\n",
    "cat_adopted_records[\"DateTime_length_int\"] = cat_adopted_records[\"DateTime_length\"].astype('timedelta64[D]')\n",
    "cat_adopted_records_gb_age = cat_adopted_records.groupby([\"Age_Bucket\"])[\"DateTime_length_int\"].mean()\n",
    "print cat_adopted_records_gb_age"
   ]
  },
  {
   "cell_type": "markdown",
   "metadata": {},
   "source": [
    "## Are there certain months that people tend to make more adoptions on? What about certain days of the week (weekends)?\n",
    "0 is Monday, 6 is Sunday"
   ]
  },
  {
   "cell_type": "code",
   "execution_count": 175,
   "metadata": {
    "collapsed": false
   },
   "outputs": [
    {
     "data": {
      "text/plain": [
       "<matplotlib.axes._subplots.AxesSubplot at 0x12b3fcd90>"
      ]
     },
     "execution_count": 175,
     "metadata": {},
     "output_type": "execute_result"
    },
    {
     "data": {
      "image/png": "[encoded data removed]",
      "text/plain": [
       "<matplotlib.figure.Figure at 0x11cc809d0>"
      ]
     },
     "metadata": {},
     "output_type": "display_data"
    }
   ],
   "source": [
    "records[records['Outcome_Type'] == \"Adoption\"]['DateTime_outcome'].dt.dayofweek.value_counts().sort_index().plot(kind=\"bar\", figsize=(20,5), title = \"Adoptions Throughout the Week\")"
   ]
  },
  {
   "cell_type": "code",
   "execution_count": 177,
   "metadata": {
    "collapsed": false
   },
   "outputs": [
    {
     "data": {
      "text/plain": [
       "<matplotlib.axes._subplots.AxesSubplot at 0x12cd30490>"
      ]
     },
     "execution_count": 177,
     "metadata": {},
     "output_type": "execute_result"
    },
    {
     "data": {
      "image/png": "[encoded data removed]",
      "text/plain": [
       "<matplotlib.figure.Figure at 0x12caff9d0>"
      ]
     },
     "metadata": {},
     "output_type": "display_data"
    }
   ],
   "source": [
    "records[records['Outcome_Type'] == \"Adoption\"]['DateTime_outcome'].dt.month.value_counts().sort_index().plot(kind='bar', figsize=(20,5), title = \"Adoptions throughout the year\")"
   ]
  },
  {
   "cell_type": "markdown",
   "metadata": {},
   "source": [
    "## How does likelihood of being adopted vs euthanized vs return to owner vs transfer change based on animal type, gender, and age?"
   ]
  },
  {
   "cell_type": "markdown",
   "metadata": {},
   "source": [
    "### What is the likelihood of outcomes based on Dog vs Cat?"
   ]
  },
  {
   "cell_type": "code",
   "execution_count": 100,
   "metadata": {
    "collapsed": false
   },
   "outputs": [
    {
     "name": "stdout",
     "output_type": "stream",
     "text": [
      "DOGS\n",
      "44.6814703925 % adopted\n",
      "3.33291749834 % euthanized\n",
      "33.3083832335 % return to owner\n",
      "18.3092149035 % transferred\n",
      "\n",
      "CATS\n",
      "42.5728387199 % adopted\n",
      "4.98328291673 % euthanized\n",
      "5.32956535584 % return to owner\n",
      "45.6774398981 % transferred\n"
     ]
    }
   ],
   "source": [
    "print \"DOGS\"\n",
    "dog_records_outcome_gb = dog_records.groupby(['Outcome_Type'])['Outcome_Type'].count()\n",
    "print float(dog_records_outcome_gb[\"Adoption\"]) / float(dog_records_outcome_gb.sum()) * 100, \"% adopted\"\n",
    "print float(dog_records_outcome_gb[\"Euthanasia\"]) / float(dog_records_outcome_gb.sum()) * 100, \"% euthanized\"\n",
    "print float(dog_records_outcome_gb[\"Return to Owner\"]) / float(dog_records_outcome_gb.sum()) * 100, \"% return to owner\"\n",
    "print float(dog_records_outcome_gb[\"Transfer\"]) / float(dog_records_outcome_gb.sum()) * 100, \"% transferred\"\n",
    "\n",
    "print \"\\nCATS\"\n",
    "cat_records_outcome_gb = cat_records.groupby(['Outcome_Type'])['Outcome_Type'].count()\n",
    "print float(cat_records_outcome_gb[\"Adoption\"]) / float(cat_records_outcome_gb.sum()) * 100, \"% adopted\"\n",
    "print float(cat_records_outcome_gb[\"Euthanasia\"]) / float(cat_records_outcome_gb.sum()) * 100, \"% euthanized\"\n",
    "print float(cat_records_outcome_gb[\"Return to Owner\"]) / float(cat_records_outcome_gb.sum()) * 100, \"% return to owner\"\n",
    "print float(cat_records_outcome_gb[\"Transfer\"]) / float(cat_records_outcome_gb.sum()) * 100, \"% transferred\""
   ]
  },
  {
   "cell_type": "markdown",
   "metadata": {},
   "source": [
    "### What is the likelihood of outcomes based on gender?"
   ]
  },
  {
   "cell_type": "code",
   "execution_count": 111,
   "metadata": {
    "collapsed": false
   },
   "outputs": [
    {
     "name": "stdout",
     "output_type": "stream",
     "text": [
      "MALE DOGS\n",
      "42.2555180871 % adopted\n",
      "3.59058859595 % euthanized\n",
      "36.0783261803 % return to owner\n",
      "17.7306866953 % transferred\n",
      "\n",
      "FEMALE DOGS\n",
      "47.9316505566 % adopted\n",
      "2.95478491914 % euthanized\n",
      "30.2029410417 % return to owner\n",
      "18.5807870264 % transferred\n",
      "\n",
      "MALE CATS\n",
      "46.0487804878 % adopted\n",
      "5.34811529933 % euthanized\n",
      "6.74057649667 % return to owner\n",
      "40.3902439024 % transferred\n",
      "\n",
      "FEMALE CATS\n",
      "47.5133828354 % adopted\n",
      "4.07528924193 % euthanized\n",
      "4.89552754274 % return to owner\n",
      "42.2897599724 % transferred\n"
     ]
    }
   ],
   "source": [
    "print \"MALE DOGS\"\n",
    "male_dog_records_outcome_gb = dog_records[dog_records['Gender'] == \"Male\"].groupby(['Outcome_Type'])['Outcome_Type'].count()\n",
    "print float(male_dog_records_outcome_gb[\"Adoption\"]) / float(male_dog_records_outcome_gb.sum()) * 100, \"% adopted\"\n",
    "print float(male_dog_records_outcome_gb[\"Euthanasia\"]) / float(male_dog_records_outcome_gb.sum()) * 100, \"% euthanized\"\n",
    "print float(male_dog_records_outcome_gb[\"Return to Owner\"]) / float(male_dog_records_outcome_gb.sum()) * 100, \"% return to owner\"\n",
    "print float(male_dog_records_outcome_gb[\"Transfer\"]) / float(male_dog_records_outcome_gb.sum()) * 100, \"% transferred\"\n",
    "\n",
    "print \"\\nFEMALE DOGS\"\n",
    "female_dog_records_outcome_gb = dog_records[dog_records['Gender'] == \"Female\"].groupby(['Outcome_Type'])['Outcome_Type'].count()\n",
    "print float(female_dog_records_outcome_gb[\"Adoption\"]) / float(female_dog_records_outcome_gb.sum()) * 100, \"% adopted\"\n",
    "print float(female_dog_records_outcome_gb[\"Euthanasia\"]) / float(female_dog_records_outcome_gb.sum()) * 100, \"% euthanized\"\n",
    "print float(female_dog_records_outcome_gb[\"Return to Owner\"]) / float(female_dog_records_outcome_gb.sum()) * 100, \"% return to owner\"\n",
    "print float(female_dog_records_outcome_gb[\"Transfer\"]) / float(female_dog_records_outcome_gb.sum()) * 100, \"% transferred\"\n",
    "\n",
    "print \"\\nMALE CATS\"\n",
    "male_cat_records_outcome_gb = cat_records[cat_records['Gender'] == \"Male\"].groupby(['Outcome_Type'])['Outcome_Type'].count()\n",
    "print float(male_cat_records_outcome_gb[\"Adoption\"]) / float(male_cat_records_outcome_gb.sum()) * 100, \"% adopted\"\n",
    "print float(male_cat_records_outcome_gb[\"Euthanasia\"]) / float(male_cat_records_outcome_gb.sum()) * 100, \"% euthanized\"\n",
    "print float(male_cat_records_outcome_gb[\"Return to Owner\"]) / float(male_cat_records_outcome_gb.sum()) * 100, \"% return to owner\"\n",
    "print float(male_cat_records_outcome_gb[\"Transfer\"]) / float(male_cat_records_outcome_gb.sum()) * 100, \"% transferred\"\n",
    "\n",
    "print \"\\nFEMALE CATS\"\n",
    "female_cat_records_outcome_gb = cat_records[cat_records['Gender'] == \"Female\"].groupby(['Outcome_Type'])['Outcome_Type'].count()\n",
    "print float(female_cat_records_outcome_gb[\"Adoption\"]) / float(female_cat_records_outcome_gb.sum()) * 100, \"% adopted\"\n",
    "print float(female_cat_records_outcome_gb[\"Euthanasia\"]) / float(female_cat_records_outcome_gb.sum()) * 100, \"% euthanized\"\n",
    "print float(female_cat_records_outcome_gb[\"Return to Owner\"]) / float(female_cat_records_outcome_gb.sum()) * 100, \"% return to owner\"\n",
    "print float(female_cat_records_outcome_gb[\"Transfer\"]) / float(female_cat_records_outcome_gb.sum()) * 100, \"% transferred\""
   ]
  },
  {
   "cell_type": "markdown",
   "metadata": {},
   "source": [
    "### What is the likelihood of outcome based on age?"
   ]
  },
  {
   "cell_type": "code",
   "execution_count": 155,
   "metadata": {
    "collapsed": false
   },
   "outputs": [
    {
     "data": {
      "text/plain": [
       "<matplotlib.axes._subplots.AxesSubplot at 0x12ad1e250>"
      ]
     },
     "execution_count": 155,
     "metadata": {},
     "output_type": "execute_result"
    },
    {
     "data": {
      "image/png": "[encoded data removed]",
      "text/plain": [
       "<matplotlib.figure.Figure at 0x12adfc450>"
      ]
     },
     "metadata": {},
     "output_type": "display_data"
    }
   ],
   "source": [
    "dog_records_outcome_age_gb = dog_records.groupby(['Outcome_Type','Age_Bucket'])['Age_Bucket'].count().unstack()\n",
    "# Drop outcomes we're not interested in\n",
    "dog_records_outcome_age_gb = dog_records_outcome_age_gb.drop(dog_records_outcome_age_gb.index[[1,2,4,6]])\n",
    "\n",
    "# Transform into a percentage\n",
    "def get_perc_outcome(val,col):\n",
    "    return float(val) / float(dog_records_outcome_age_gb[col].sum()) * 100\n",
    "\n",
    "perc_dog_records_outcome_age_gb = pd.DataFrame()\n",
    "for col in dog_records_outcome_age_gb.columns:\n",
    "    perc_dog_records_outcome_age_gb[col] = dog_records_outcome_age_gb[col].apply(get_perc_outcome, args=(col,))\n",
    "\n",
    "perc_dog_records_outcome_age_gb = perc_dog_records_outcome_age_gb.T\n",
    "perc_dog_records_outcome_age_gb.plot(kind=\"bar\", figsize=(20,5), title = \"Distribution of outcomes based on age (%)\")"
   ]
  },
  {
   "cell_type": "markdown",
   "metadata": {},
   "source": [
    "## General Knowledge:"
   ]
  },
  {
   "cell_type": "code",
   "execution_count": 13,
   "metadata": {
    "collapsed": false
   },
   "outputs": [
    {
     "data": {
      "text/plain": [
       "Outcome_Type  Outcome_Subtype    \n",
       "Adoption      Barn                       1\n",
       "              Foster                  4786\n",
       "              Offsite                  325\n",
       "Died          At Vet                    28\n",
       "              Enroute                   30\n",
       "              In Foster                116\n",
       "              In Kennel                280\n",
       "              In Surgery                11\n",
       "Euthanasia    Aggressive               620\n",
       "              At Vet                     4\n",
       "              Behavior                 144\n",
       "              Court/Investigation       28\n",
       "              Medical                  217\n",
       "              Rabies Risk             2062\n",
       "              Suffering               2208\n",
       "              Underage                  26\n",
       "Missing       In Foster                 15\n",
       "              In Kennel                  7\n",
       "              Possible Theft            16\n",
       "Transfer      Barn                       2\n",
       "              Partner                17367\n",
       "              SCRP                    3430\n",
       "Name: Animal ID, dtype: int64"
      ]
     },
     "execution_count": 13,
     "metadata": {},
     "output_type": "execute_result"
    }
   ],
   "source": [
    "# What do the outcome subtypes mean? How do those match up to outcomes?\n",
    "records.groupby(by=['Outcome_Type','Outcome_Subtype'])['Animal ID'].count()"
   ]
  },
  {
   "cell_type": "code",
   "execution_count": null,
   "metadata": {
    "collapsed": true
   },
   "outputs": [],
   "source": []
  }
 ],
 "metadata": {
  "kernelspec": {
   "display_name": "Python 2",
   "language": "python",
   "name": "python2"
  },
  "language_info": {
   "codemirror_mode": {
    "name": "ipython",
    "version": 2
   },
   "file_extension": ".py",
   "mimetype": "text/x-python",
   "name": "python",
   "nbconvert_exporter": "python",
   "pygments_lexer": "ipython2",
   "version": "2.7.13"
  }
 },
 "nbformat": 4,
 "nbformat_minor": 2
}
